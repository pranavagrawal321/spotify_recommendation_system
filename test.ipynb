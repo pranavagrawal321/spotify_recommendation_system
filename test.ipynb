{
 "cells": [
  {
   "cell_type": "code",
   "execution_count": 2,
   "id": "de8d176f-dfc8-4eb8-a2ac-cdb9e6526989",
   "metadata": {},
   "outputs": [
    {
     "name": "stdout",
     "output_type": "stream",
     "text": [
      "Collecting annoy\n",
      "  Using cached annoy-1.17.3-cp312-cp312-linux_x86_64.whl\n",
      "Installing collected packages: annoy\n",
      "Successfully installed annoy-1.17.3\n"
     ]
    }
   ],
   "source": [
    "!pip install annoy"
   ]
  },
  {
   "cell_type": "code",
   "execution_count": 1,
   "id": "38f24be7-b334-4e4f-b059-2dac557ffde2",
   "metadata": {},
   "outputs": [],
   "source": [
    "from annoy import AnnoyIndex"
   ]
  },
  {
   "cell_type": "code",
   "execution_count": 2,
   "id": "8f90e48e-b437-414f-a504-59793612bc0b",
   "metadata": {},
   "outputs": [],
   "source": [
    "import pandas as pd"
   ]
  },
  {
   "cell_type": "code",
   "execution_count": 3,
   "id": "b532a086-c9a0-48d6-a6fe-54a8f9b4b113",
   "metadata": {},
   "outputs": [],
   "source": [
    "data = pd.read_csv('dataset/tracks.csv')"
   ]
  },
  {
   "cell_type": "code",
   "execution_count": 4,
   "id": "07a81964-7982-41fc-b6ef-8e280d6808cb",
   "metadata": {},
   "outputs": [],
   "source": [
    "index = AnnoyIndex(12, 'euclidean')"
   ]
  },
  {
   "cell_type": "code",
   "execution_count": 5,
   "id": "6fea19ff-f448-44f0-8fc1-802882fdccb7",
   "metadata": {},
   "outputs": [
    {
     "data": {
      "text/plain": [
       "Index(['id', 'name', 'popularity', 'duration_ms', 'explicit', 'artists',\n",
       "       'id_artists', 'release_date', 'danceability', 'energy', 'key',\n",
       "       'loudness', 'mode', 'speechiness', 'acousticness', 'instrumentalness',\n",
       "       'liveness', 'valence', 'tempo', 'time_signature'],\n",
       "      dtype='object')"
      ]
     },
     "execution_count": 5,
     "metadata": {},
     "output_type": "execute_result"
    }
   ],
   "source": [
    "data.columns"
   ]
  },
  {
   "cell_type": "code",
   "execution_count": 6,
   "id": "21bd57ef-3cfa-42ab-8b60-3fd0cb1b6594",
   "metadata": {},
   "outputs": [],
   "source": [
    "for i, row in data.iterrows():\n",
    "    vector = [\n",
    "        row['popularity'], \n",
    "        row['duration_ms'], \n",
    "        row['danceability'], \n",
    "        row['energy'], \n",
    "        row['loudness'], \n",
    "        row['speechiness'], \n",
    "        row['acousticness'], \n",
    "        row['instrumentalness'], \n",
    "        row['liveness'], \n",
    "        row['valence'], \n",
    "        row['tempo'], \n",
    "        row['time_signature']\n",
    "    ]\n",
    "    index.add_item(i, vector)"
   ]
  },
  {
   "cell_type": "code",
   "execution_count": 7,
   "id": "d863bfc3-054d-4319-82da-38e17a6c6dd6",
   "metadata": {},
   "outputs": [
    {
     "data": {
      "text/plain": [
       "True"
      ]
     },
     "execution_count": 7,
     "metadata": {},
     "output_type": "execute_result"
    }
   ],
   "source": [
    "index.build(18)"
   ]
  },
  {
   "cell_type": "code",
   "execution_count": 8,
   "id": "e4240c31-fa5b-492c-9b97-60ce39ed7d24",
   "metadata": {},
   "outputs": [],
   "source": [
    "target_vector = [5.1, 3.5, 1.4, 0.2, 0, 0, 0, 0, 0, 0, 0, 0]"
   ]
  },
  {
   "cell_type": "code",
   "execution_count": 9,
   "id": "43cad116-4b35-4a18-8560-1a7b65f8718d",
   "metadata": {},
   "outputs": [],
   "source": [
    "k = 3"
   ]
  },
  {
   "cell_type": "code",
   "execution_count": 10,
   "id": "e4f30c2e-13c9-466b-8d3d-4df72098987f",
   "metadata": {},
   "outputs": [],
   "source": [
    "nearest_neighbors = index.get_nns_by_vector(target_vector, k)"
   ]
  },
  {
   "cell_type": "code",
   "execution_count": 11,
   "id": "8fdc83c0-25f7-4e33-a655-1968a4f3f2de",
   "metadata": {},
   "outputs": [
    {
     "name": "stdout",
     "output_type": "stream",
     "text": [
      "Indices of nearest neighbors: [1441, 1570, 1575]\n"
     ]
    }
   ],
   "source": [
    "print(\"Indices of nearest neighbors:\", nearest_neighbors)"
   ]
  },
  {
   "cell_type": "code",
   "execution_count": 12,
   "id": "b224af6a-a0bf-4651-b121-762ec7c0f307",
   "metadata": {},
   "outputs": [],
   "source": [
    "nearest_tracks = data.iloc[nearest_neighbors]"
   ]
  },
  {
   "cell_type": "code",
   "execution_count": 14,
   "id": "7181f255-e42a-4331-b709-44bd87bfe1ef",
   "metadata": {},
   "outputs": [
    {
     "data": {
      "text/html": [
       "<div>\n",
       "<style scoped>\n",
       "    .dataframe tbody tr th:only-of-type {\n",
       "        vertical-align: middle;\n",
       "    }\n",
       "\n",
       "    .dataframe tbody tr th {\n",
       "        vertical-align: top;\n",
       "    }\n",
       "\n",
       "    .dataframe thead th {\n",
       "        text-align: right;\n",
       "    }\n",
       "</style>\n",
       "<table border=\"1\" class=\"dataframe\">\n",
       "  <thead>\n",
       "    <tr style=\"text-align: right;\">\n",
       "      <th></th>\n",
       "      <th>id</th>\n",
       "      <th>name</th>\n",
       "      <th>popularity</th>\n",
       "      <th>duration_ms</th>\n",
       "      <th>explicit</th>\n",
       "      <th>artists</th>\n",
       "      <th>id_artists</th>\n",
       "      <th>release_date</th>\n",
       "      <th>danceability</th>\n",
       "      <th>energy</th>\n",
       "      <th>key</th>\n",
       "      <th>loudness</th>\n",
       "      <th>mode</th>\n",
       "      <th>speechiness</th>\n",
       "      <th>acousticness</th>\n",
       "      <th>instrumentalness</th>\n",
       "      <th>liveness</th>\n",
       "      <th>valence</th>\n",
       "      <th>tempo</th>\n",
       "      <th>time_signature</th>\n",
       "    </tr>\n",
       "  </thead>\n",
       "  <tbody>\n",
       "    <tr>\n",
       "      <th>1441</th>\n",
       "      <td>2s6e7KLoQ5hie3Cnh73v2v</td>\n",
       "      <td>Pause Track</td>\n",
       "      <td>0</td>\n",
       "      <td>3344</td>\n",
       "      <td>0</td>\n",
       "      <td>['Louis Armstrong']</td>\n",
       "      <td>['19eLuQmk9aCobbVDHc6eek']</td>\n",
       "      <td>1925</td>\n",
       "      <td>0.0</td>\n",
       "      <td>0.0</td>\n",
       "      <td>0</td>\n",
       "      <td>-60.0</td>\n",
       "      <td>0</td>\n",
       "      <td>0.0</td>\n",
       "      <td>0.0</td>\n",
       "      <td>0.0</td>\n",
       "      <td>0.0</td>\n",
       "      <td>0.0</td>\n",
       "      <td>0.0</td>\n",
       "      <td>0</td>\n",
       "    </tr>\n",
       "    <tr>\n",
       "      <th>1570</th>\n",
       "      <td>4SjlyAejCNUB4MrGM1KuVp</td>\n",
       "      <td>Pause Track</td>\n",
       "      <td>0</td>\n",
       "      <td>3344</td>\n",
       "      <td>0</td>\n",
       "      <td>['Louis Armstrong']</td>\n",
       "      <td>['19eLuQmk9aCobbVDHc6eek']</td>\n",
       "      <td>1925</td>\n",
       "      <td>0.0</td>\n",
       "      <td>0.0</td>\n",
       "      <td>0</td>\n",
       "      <td>-60.0</td>\n",
       "      <td>0</td>\n",
       "      <td>0.0</td>\n",
       "      <td>0.0</td>\n",
       "      <td>0.0</td>\n",
       "      <td>0.0</td>\n",
       "      <td>0.0</td>\n",
       "      <td>0.0</td>\n",
       "      <td>0</td>\n",
       "    </tr>\n",
       "    <tr>\n",
       "      <th>1575</th>\n",
       "      <td>4WeyR22Ax2fF9dY0NxgjFV</td>\n",
       "      <td>Pause Track</td>\n",
       "      <td>0</td>\n",
       "      <td>3344</td>\n",
       "      <td>0</td>\n",
       "      <td>['Louis Armstrong']</td>\n",
       "      <td>['19eLuQmk9aCobbVDHc6eek']</td>\n",
       "      <td>1925</td>\n",
       "      <td>0.0</td>\n",
       "      <td>0.0</td>\n",
       "      <td>0</td>\n",
       "      <td>-60.0</td>\n",
       "      <td>0</td>\n",
       "      <td>0.0</td>\n",
       "      <td>0.0</td>\n",
       "      <td>0.0</td>\n",
       "      <td>0.0</td>\n",
       "      <td>0.0</td>\n",
       "      <td>0.0</td>\n",
       "      <td>0</td>\n",
       "    </tr>\n",
       "  </tbody>\n",
       "</table>\n",
       "</div>"
      ],
      "text/plain": [
       "                          id         name  popularity  duration_ms  explicit  \\\n",
       "1441  2s6e7KLoQ5hie3Cnh73v2v  Pause Track           0         3344         0   \n",
       "1570  4SjlyAejCNUB4MrGM1KuVp  Pause Track           0         3344         0   \n",
       "1575  4WeyR22Ax2fF9dY0NxgjFV  Pause Track           0         3344         0   \n",
       "\n",
       "                  artists                  id_artists release_date  \\\n",
       "1441  ['Louis Armstrong']  ['19eLuQmk9aCobbVDHc6eek']         1925   \n",
       "1570  ['Louis Armstrong']  ['19eLuQmk9aCobbVDHc6eek']         1925   \n",
       "1575  ['Louis Armstrong']  ['19eLuQmk9aCobbVDHc6eek']         1925   \n",
       "\n",
       "      danceability  energy  key  loudness  mode  speechiness  acousticness  \\\n",
       "1441           0.0     0.0    0     -60.0     0          0.0           0.0   \n",
       "1570           0.0     0.0    0     -60.0     0          0.0           0.0   \n",
       "1575           0.0     0.0    0     -60.0     0          0.0           0.0   \n",
       "\n",
       "      instrumentalness  liveness  valence  tempo  time_signature  \n",
       "1441               0.0       0.0      0.0    0.0               0  \n",
       "1570               0.0       0.0      0.0    0.0               0  \n",
       "1575               0.0       0.0      0.0    0.0               0  "
      ]
     },
     "execution_count": 14,
     "metadata": {},
     "output_type": "execute_result"
    }
   ],
   "source": [
    "nearest_tracks"
   ]
  },
  {
   "cell_type": "code",
   "execution_count": null,
   "id": "f2bac8ba-4447-471b-a82e-45f1f2471c16",
   "metadata": {},
   "outputs": [],
   "source": []
  }
 ],
 "metadata": {
  "kernelspec": {
   "display_name": "spotify_recommendation_env",
   "language": "python",
   "name": "spotify_recommendation_env"
  },
  "language_info": {
   "codemirror_mode": {
    "name": "ipython",
    "version": 3
   },
   "file_extension": ".py",
   "mimetype": "text/x-python",
   "name": "python",
   "nbconvert_exporter": "python",
   "pygments_lexer": "ipython3",
   "version": "3.12.4"
  }
 },
 "nbformat": 4,
 "nbformat_minor": 5
}
